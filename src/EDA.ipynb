{
 "cells": [
  {
   "cell_type": "markdown",
   "id": "fc3becec",
   "metadata": {},
   "source": [
    "## Extracting features of wallet data"
   ]
  },
  {
   "cell_type": "code",
   "execution_count": 10,
   "id": "f6f98dc5",
   "metadata": {},
   "outputs": [
    {
     "name": "stdout",
     "output_type": "stream",
     "text": [
      "                                 wallet_address  total_transactions  inflow  \\\n",
      "0  5Hr7wZg7oBpVhH5nngRqzr5W7ZFUfCsfEhbziZJak7fr                 200  0.0000   \n",
      "1  7HdZJzZV1Va6H2KvyYCym6q7j5BmEdHz7ikUkdNfuGcz                  45  0.7022   \n",
      "2  7uayHqA68uxnC6M4E96jgscL9X7ErtkdSUTU6qcxVkqj                   2  0.0863   \n",
      "3  9Y75YHyA8GBAaMsFNqfAEChfwxyvVhgVihkK9NPRWXkS                   3  0.6018   \n",
      "4  Be9RC2UC4GkV97XHe31aEULMXpex5ZbDt1cUGiwZjoEg                  24  1.9977   \n",
      "\n",
      "   outflow  inflow_outflow_ratio  duration_days  transactions_per_day  \n",
      "0   0.0000                0.0000           0.00            1329230.77  \n",
      "1  15.5325                0.0452           0.01               5355.37  \n",
      "2   0.0863                1.0002           0.00                464.52  \n",
      "3   0.0000                   inf           5.87                  0.51  \n",
      "4   0.0000                   inf           3.51                  6.83  \n"
     ]
    }
   ],
   "source": [
    "import pandas as pd\n",
    "import numpy as np\n",
    "\n",
    "df = pd.read_csv(r'C:\\Users\\ayemi\\OneDrive\\Documents\\The_Haritz\\data\\cleaned_wallet_transactions.csv')\n",
    "df['timestamp'] = pd.to_datetime(df['timestamp'])\n",
    "\n",
    "features = []\n",
    "\n",
    "for wallet, group in df.groupby('wallet'):\n",
    "    total_transactions = len(group)\n",
    "    inflow = group[group['direction'] == 'inflow']['amount'].sum()\n",
    "    outflow = group[group['direction'] == 'outflow']['amount'].sum()\n",
    "    inflow_outflow_ratio = inflow / outflow if outflow != 0 else np.inf\n",
    "\n",
    "    frist_time = group['timestamp'].min()\n",
    "    last_time = group['timestamp'].max()\n",
    "    duration_days = (last_time - frist_time).total_seconds() / (24 * 3600)\n",
    "    transactions_per_day = total_transactions / duration_days if duration_days > 0 else total_transactions\n",
    "\n",
    "    features.append({\n",
    "        'wallet_address': wallet,\n",
    "        'total_transactions': total_transactions,\n",
    "        'inflow': round(inflow, 4),\n",
    "        'outflow': round(outflow, 4),\n",
    "        'inflow_outflow_ratio': round(inflow_outflow_ratio, 4),\n",
    "        'duration_days': round(duration_days, 2),\n",
    "        'transactions_per_day': round(transactions_per_day, 2)\n",
    "    })\n",
    "\n",
    "features_df = pd.DataFrame(features)\n",
    "features_df.to_csv(r'C:\\Users\\ayemi\\OneDrive\\Documents\\The_Haritz\\data\\wallet_features.csv', index=False)\n",
    "print(features_df.head())"
   ]
  },
  {
   "cell_type": "markdown",
   "id": "1551d847",
   "metadata": {},
   "source": [
    "### Token Mint Timing vs Dump Timing"
   ]
  },
  {
   "cell_type": "code",
   "execution_count": 19,
   "id": "8c00a554",
   "metadata": {},
   "outputs": [
    {
     "name": "stdout",
     "output_type": "stream",
     "text": [
      "                                 wallet_address  total_transactions  inflow  \\\n",
      "0  5Hr7wZg7oBpVhH5nngRqzr5W7ZFUfCsfEhbziZJak7fr                 200  0.0000   \n",
      "1  7HdZJzZV1Va6H2KvyYCym6q7j5BmEdHz7ikUkdNfuGcz                  45  0.7022   \n",
      "2  7uayHqA68uxnC6M4E96jgscL9X7ErtkdSUTU6qcxVkqj                   2  0.0863   \n",
      "3  9Y75YHyA8GBAaMsFNqfAEChfwxyvVhgVihkK9NPRWXkS                   3  0.6018   \n",
      "4  Be9RC2UC4GkV97XHe31aEULMXpex5ZbDt1cUGiwZjoEg                  24  1.9977   \n",
      "\n",
      "   outflow  inflow_outflow_ratio  duration_days  transactions_per_day  \\\n",
      "0   0.0000                0.0000           0.00            1329230.77   \n",
      "1  15.5325                0.0452           0.01               5355.37   \n",
      "2   0.0863                1.0002           0.00                464.52   \n",
      "3   0.0000                   inf           5.87                  0.51   \n",
      "4   0.0000                   inf           3.51                  6.83   \n",
      "\n",
      "   minted_tokens  avg_mint_time  \n",
      "0            0.0            0.0  \n",
      "1           10.0            0.0  \n",
      "2            0.0            0.0  \n",
      "3            0.0            0.0  \n",
      "4            1.0            0.0  \n"
     ]
    }
   ],
   "source": [
    "# mint transactions\n",
    "mint_df = df[df['amount'] > 0].copy()\n",
    "mint_df.rename(columns={'timestamp': 'mint_timestamp'}, inplace=True)\n",
    "\n",
    "first_mint_per_token = mint_df.groupby('token_mint')['mint_timestamp'].min().reset_index()\n",
    "\n",
    "# dump transactions\n",
    "dump_df = df[df['amount'] < 0].copy()\n",
    "dump_df.rename(columns={'timestamp': 'dump_timestamp'}, inplace=True) \n",
    "\n",
    "dump_joined = pd.merge(dump_df, first_mint_per_token, on='token_mint', how='inner')\n",
    "dump_joined['mint_timestamp'] = (dump_joined['dump_timestamp'] - dump_joined['mint_timestamp']).dt.total_seconds() / (60)\n",
    "\n",
    "mint_dump_summary = dump_joined.groupby('wallet').agg(\n",
    "    {\"token_mint\":\"nunique\",\n",
    "    \"mint_timestamp\":\"mean\"}\n",
    ").reset_index()\n",
    "\n",
    "mint_dump_summary.rename(columns={\"token_mint\":\"minted_tokens\"}, inplace=True)\n",
    "mint_dump_summary.rename(columns={\"mint_timestamp\":\"avg_mint_time\"}, inplace=True)\n",
    "mint_dump_summary.rename(columns={\"wallet\":\"wallet_address\"}, inplace=True)\n",
    "\n",
    "# merge with features_df\n",
    "features_df = pd.merge(features_df, mint_dump_summary, on='wallet_address', how='left')\n",
    "features_df['avg_mint_time'] = features_df['avg_mint_time'].fillna(0)\n",
    "features_df.fillna(0, inplace=True)\n",
    "\n",
    "# conn = sqlite3.connect(r'C:\\Users\\ayemi\\OneDrive\\Documents\\The_Haritz\\data\\wallet_features.db')\n",
    "# features_df.to_sql('wallet_features', conn, if_exists='replace', index=False)\n",
    "# conn.close()\n",
    "\n",
    "print(features_df.head())\n"
   ]
  },
  {
   "cell_type": "markdown",
   "id": "21f722d8",
   "metadata": {},
   "source": [
    "### Fast Dumper Logic"
   ]
  },
  {
   "cell_type": "code",
   "execution_count": null,
   "id": "05fd4ae9",
   "metadata": {},
   "outputs": [],
   "source": [
    "early_buy_mmins = 10\n",
    "fast_dump_mmins = 10    \n",
    "\n",
    "first_mint_time = df[df['amount'] > 0].groupby('token_mint')['timestamp'].min().re"
   ]
  }
 ],
 "metadata": {
  "kernelspec": {
   "display_name": "Python 3",
   "language": "python",
   "name": "python3"
  },
  "language_info": {
   "codemirror_mode": {
    "name": "ipython",
    "version": 3
   },
   "file_extension": ".py",
   "mimetype": "text/x-python",
   "name": "python",
   "nbconvert_exporter": "python",
   "pygments_lexer": "ipython3",
   "version": "3.12.4"
  }
 },
 "nbformat": 4,
 "nbformat_minor": 5
}
